{
 "cells": [
  {
   "cell_type": "markdown",
   "metadata": {},
   "source": [
    "### Finding the best market to advertise in"
   ]
  },
  {
   "cell_type": "markdown",
   "metadata": {},
   "source": [
    "In this project we will analyse markets data for an e-learning platform. Our goal is to find the best segment to invest money in advertisement."
   ]
  },
  {
   "cell_type": "markdown",
   "metadata": {},
   "source": [
    "We start importing the libraries we need for the job, as shown below."
   ]
  },
  {
   "cell_type": "code",
   "execution_count": 1,
   "metadata": {
    "collapsed": true
   },
   "outputs": [],
   "source": [
    "import pandas as pd\n",
    "import numpy as np\n",
    "import matplotlib.pyplot as plot\n",
    "import matplotlib\n",
    "%matplotlib inline"
   ]
  },
  {
   "cell_type": "markdown",
   "metadata": {},
   "source": [
    "Since we do not have a budget to collect data, we're going to rely on free datasets available online. A good choice for the work is a dataset created by freeCodeCamp in 2017, which was made out of a massive collection of surveys. We are loading it below."
   ]
  },
  {
   "cell_type": "code",
   "execution_count": 2,
   "metadata": {},
   "outputs": [
    {
     "name": "stderr",
     "output_type": "stream",
     "text": [
      "/dataquest/system/env/python3/lib/python3.4/site-packages/IPython/core/interactiveshell.py:2723: DtypeWarning:\n",
      "\n",
      "Columns (17,62) have mixed types. Specify dtype option on import or set low_memory=False.\n",
      "\n"
     ]
    }
   ],
   "source": [
    "survey = pd.read_csv('2017-fCC-New-Coders-Survey-Data.csv')"
   ]
  },
  {
   "cell_type": "markdown",
   "metadata": {},
   "source": [
    "Now, let's get to know the file structure."
   ]
  },
  {
   "cell_type": "code",
   "execution_count": 3,
   "metadata": {},
   "outputs": [
    {
     "name": "stdout",
     "output_type": "stream",
     "text": [
      "<class 'pandas.core.frame.DataFrame'>\n",
      "RangeIndex: 18175 entries, 0 to 18174\n",
      "Columns: 136 entries, Age to YouTubeTheNewBoston\n",
      "dtypes: float64(105), object(31)\n",
      "memory usage: 18.9+ MB\n"
     ]
    }
   ],
   "source": [
    "survey.info()"
   ]
  },
  {
   "cell_type": "markdown",
   "metadata": {},
   "source": [
    "The file has 136 columns and more than 18k entries. We'll check the columns, one by one, below"
   ]
  },
  {
   "cell_type": "code",
   "execution_count": 4,
   "metadata": {
    "collapsed": true
   },
   "outputs": [],
   "source": [
    "columns = []"
   ]
  },
  {
   "cell_type": "code",
   "execution_count": 5,
   "metadata": {},
   "outputs": [],
   "source": [
    "for column in survey.columns:\n",
    "    columns.append(column)"
   ]
  },
  {
   "cell_type": "code",
   "execution_count": 6,
   "metadata": {
    "scrolled": false
   },
   "outputs": [
    {
     "data": {
      "text/plain": [
       "['Age',\n",
       " 'AttendedBootcamp',\n",
       " 'BootcampFinish',\n",
       " 'BootcampLoanYesNo',\n",
       " 'BootcampName',\n",
       " 'BootcampRecommend',\n",
       " 'ChildrenNumber',\n",
       " 'CityPopulation',\n",
       " 'CodeEventConferences',\n",
       " 'CodeEventDjangoGirls',\n",
       " 'CodeEventFCC',\n",
       " 'CodeEventGameJam',\n",
       " 'CodeEventGirlDev',\n",
       " 'CodeEventHackathons',\n",
       " 'CodeEventMeetup',\n",
       " 'CodeEventNodeSchool',\n",
       " 'CodeEventNone',\n",
       " 'CodeEventOther',\n",
       " 'CodeEventRailsBridge',\n",
       " 'CodeEventRailsGirls',\n",
       " 'CodeEventStartUpWknd',\n",
       " 'CodeEventWkdBootcamps',\n",
       " 'CodeEventWomenCode',\n",
       " 'CodeEventWorkshops',\n",
       " 'CommuteTime',\n",
       " 'CountryCitizen',\n",
       " 'CountryLive',\n",
       " 'EmploymentField',\n",
       " 'EmploymentFieldOther',\n",
       " 'EmploymentStatus',\n",
       " 'EmploymentStatusOther',\n",
       " 'ExpectedEarning',\n",
       " 'FinanciallySupporting',\n",
       " 'FirstDevJob',\n",
       " 'Gender',\n",
       " 'GenderOther',\n",
       " 'HasChildren',\n",
       " 'HasDebt',\n",
       " 'HasFinancialDependents',\n",
       " 'HasHighSpdInternet',\n",
       " 'HasHomeMortgage',\n",
       " 'HasServedInMilitary',\n",
       " 'HasStudentDebt',\n",
       " 'HomeMortgageOwe',\n",
       " 'HoursLearning',\n",
       " 'ID.x',\n",
       " 'ID.y',\n",
       " 'Income',\n",
       " 'IsEthnicMinority',\n",
       " 'IsReceiveDisabilitiesBenefits',\n",
       " 'IsSoftwareDev',\n",
       " 'IsUnderEmployed',\n",
       " 'JobApplyWhen',\n",
       " 'JobInterestBackEnd',\n",
       " 'JobInterestDataEngr',\n",
       " 'JobInterestDataSci',\n",
       " 'JobInterestDevOps',\n",
       " 'JobInterestFrontEnd',\n",
       " 'JobInterestFullStack',\n",
       " 'JobInterestGameDev',\n",
       " 'JobInterestInfoSec',\n",
       " 'JobInterestMobile',\n",
       " 'JobInterestOther',\n",
       " 'JobInterestProjMngr',\n",
       " 'JobInterestQAEngr',\n",
       " 'JobInterestUX',\n",
       " 'JobPref',\n",
       " 'JobRelocateYesNo',\n",
       " 'JobRoleInterest',\n",
       " 'JobWherePref',\n",
       " 'LanguageAtHome',\n",
       " 'MaritalStatus',\n",
       " 'MoneyForLearning',\n",
       " 'MonthsProgramming',\n",
       " 'NetworkID',\n",
       " 'Part1EndTime',\n",
       " 'Part1StartTime',\n",
       " 'Part2EndTime',\n",
       " 'Part2StartTime',\n",
       " 'PodcastChangeLog',\n",
       " 'PodcastCodeNewbie',\n",
       " 'PodcastCodePen',\n",
       " 'PodcastDevTea',\n",
       " 'PodcastDotNET',\n",
       " 'PodcastGiantRobots',\n",
       " 'PodcastJSAir',\n",
       " 'PodcastJSJabber',\n",
       " 'PodcastNone',\n",
       " 'PodcastOther',\n",
       " 'PodcastProgThrowdown',\n",
       " 'PodcastRubyRogues',\n",
       " 'PodcastSEDaily',\n",
       " 'PodcastSERadio',\n",
       " 'PodcastShopTalk',\n",
       " 'PodcastTalkPython',\n",
       " 'PodcastTheWebAhead',\n",
       " 'ResourceCodecademy',\n",
       " 'ResourceCodeWars',\n",
       " 'ResourceCoursera',\n",
       " 'ResourceCSS',\n",
       " 'ResourceEdX',\n",
       " 'ResourceEgghead',\n",
       " 'ResourceFCC',\n",
       " 'ResourceHackerRank',\n",
       " 'ResourceKA',\n",
       " 'ResourceLynda',\n",
       " 'ResourceMDN',\n",
       " 'ResourceOdinProj',\n",
       " 'ResourceOther',\n",
       " 'ResourcePluralSight',\n",
       " 'ResourceSkillcrush',\n",
       " 'ResourceSO',\n",
       " 'ResourceTreehouse',\n",
       " 'ResourceUdacity',\n",
       " 'ResourceUdemy',\n",
       " 'ResourceW3S',\n",
       " 'SchoolDegree',\n",
       " 'SchoolMajor',\n",
       " 'StudentDebtOwe',\n",
       " 'YouTubeCodeCourse',\n",
       " 'YouTubeCodingTrain',\n",
       " 'YouTubeCodingTut360',\n",
       " 'YouTubeComputerphile',\n",
       " 'YouTubeDerekBanas',\n",
       " 'YouTubeDevTips',\n",
       " 'YouTubeEngineeredTruth',\n",
       " 'YouTubeFCC',\n",
       " 'YouTubeFunFunFunction',\n",
       " 'YouTubeGoogleDev',\n",
       " 'YouTubeLearnCode',\n",
       " 'YouTubeLevelUpTuts',\n",
       " 'YouTubeMIT',\n",
       " 'YouTubeMozillaHacks',\n",
       " 'YouTubeOther',\n",
       " 'YouTubeSimplilearn',\n",
       " 'YouTubeTheNewBoston']"
      ]
     },
     "execution_count": 6,
     "metadata": {},
     "output_type": "execute_result"
    }
   ],
   "source": [
    "columns"
   ]
  },
  {
   "cell_type": "markdown",
   "metadata": {
    "collapsed": true
   },
   "source": [
    "As we can see, by the content of that columns, this dataset probably has information we can use to our job to understand a viable public for our client. The dataset can be downloaded on this link: https://github.com/freeCodeCamp/2017-new-coder-survey"
   ]
  },
  {
   "cell_type": "markdown",
   "metadata": {},
   "source": [
    "Now we'll check the job interest results of the surveyed people, to make sure this is a representative sample for our job."
   ]
  },
  {
   "cell_type": "code",
   "execution_count": 25,
   "metadata": {},
   "outputs": [
    {
     "data": {
      "text/plain": [
       "Full-Stack Web Developer                                                                                                                                                              0.117936\n",
       "  Front-End Web Developer                                                                                                                                                             0.064429\n",
       "  Data Scientist                                                                                                                                                                      0.021846\n",
       "Back-End Web Developer                                                                                                                                                                0.019946\n",
       "Game Developer                                                                                                                                                                        0.015989\n",
       "  Mobile Developer                                                                                                                                                                    0.015830\n",
       "Information Security                                                                                                                                                                  0.011714\n",
       "Full-Stack Web Developer,   Front-End Web Developer                                                                                                                                   0.009498\n",
       "Data Engineer                                                                                                                                                                         0.007599\n",
       "  Product Manager                                                                                                                                                                     0.007599\n",
       "  Front-End Web Developer, Full-Stack Web Developer                                                                                                                                   0.007599\n",
       "  User Experience Designer                                                                                                                                                            0.007124\n",
       "  Front-End Web Developer, Back-End Web Developer, Full-Stack Web Developer                                                                                                           0.006174\n",
       "  User Experience Designer,   Front-End Web Developer                                                                                                                                 0.005857\n",
       "  DevOps / SysAdmin                                                                                                                                                                   0.005224\n",
       "Back-End Web Developer, Full-Stack Web Developer,   Front-End Web Developer                                                                                                           0.004907\n",
       "Back-End Web Developer,   Front-End Web Developer, Full-Stack Web Developer                                                                                                           0.004907\n",
       "Full-Stack Web Developer,   Front-End Web Developer, Back-End Web Developer                                                                                                           0.004749\n",
       "Full-Stack Web Developer,   Mobile Developer                                                                                                                                          0.004432\n",
       "  Front-End Web Developer, Full-Stack Web Developer, Back-End Web Developer                                                                                                           0.004274\n",
       "  Front-End Web Developer,   User Experience Designer                                                                                                                                 0.004274\n",
       "Full-Stack Web Developer, Back-End Web Developer                                                                                                                                      0.003958\n",
       "Back-End Web Developer, Full-Stack Web Developer                                                                                                                                      0.003641\n",
       "Back-End Web Developer,   Front-End Web Developer                                                                                                                                     0.002849\n",
       "Full-Stack Web Developer, Back-End Web Developer,   Front-End Web Developer                                                                                                           0.002849\n",
       "Full-Stack Web Developer,   Data Scientist                                                                                                                                            0.002533\n",
       "Data Engineer,   Data Scientist                                                                                                                                                       0.002533\n",
       "  Data Scientist, Data Engineer                                                                                                                                                       0.002216\n",
       "  Front-End Web Developer,   Mobile Developer                                                                                                                                         0.002216\n",
       "Full-Stack Web Developer, Game Developer                                                                                                                                              0.002216\n",
       "                                                                                                                                                                                        ...   \n",
       "  Data Scientist, Full-Stack Web Developer, Information Security                                                                                                                      0.000158\n",
       "Back-End Web Developer, Information Security,   DevOps / SysAdmin, Full-Stack Web Developer,   Front-End Web Developer, Game Developer                                                0.000158\n",
       "Full-Stack Web Developer, Back-End Web Developer, Game Developer,   Mobile Developer,   Front-End Web Developer                                                                       0.000158\n",
       "Full-Stack Web Developer, Data Engineer,   Front-End Web Developer,   Mobile Developer,   User Experience Designer, Back-End Web Developer                                            0.000158\n",
       "Back-End Web Developer,   User Experience Designer,   Front-End Web Developer, Full-Stack Web Developer,   Mobile Developer                                                           0.000158\n",
       "  Product Manager, Back-End Web Developer,   Mobile Developer, Full-Stack Web Developer,   Data Scientist,   Front-End Web Developer                                                  0.000158\n",
       "  Data Scientist, Information Security, Back-End Web Developer, Data Engineer,   DevOps / SysAdmin, Full-Stack Web Developer                                                          0.000158\n",
       "AI                                                                                                                                                                                    0.000158\n",
       "  Front-End Web Developer,   Data Scientist, Game Developer, Full-Stack Web Developer                                                                                                 0.000158\n",
       "  Mobile Developer,   Product Manager,   User Experience Designer, Information Security                                                                                               0.000158\n",
       "  User Experience Designer,   Front-End Web Developer, Full-Stack Web Developer,   Quality Assurance Engineer, Back-End Web Developer                                                 0.000158\n",
       "  DevOps / SysAdmin, Information Security, Data Engineer,   Mobile Developer,   Data Scientist, Back-End Web Developer                                                                0.000158\n",
       "Back-End Web Developer,   DevOps / SysAdmin,   Front-End Web Developer, Full-Stack Web Developer,   Mobile Developer                                                                  0.000158\n",
       "Information Security, Game Developer,   Mobile Developer,   DevOps / SysAdmin                                                                                                         0.000158\n",
       "  User Experience Designer, Full-Stack Web Developer,   DevOps / SysAdmin                                                                                                             0.000158\n",
       "Back-End Web Developer,   Front-End Web Developer,   Data Scientist,   Mobile Developer, Game Developer, Data Engineer                                                                0.000158\n",
       "  Data Scientist, Back-End Web Developer, Information Security,   Mobile Developer                                                                                                    0.000158\n",
       "Full-Stack Web Developer,   Mobile Developer,   DevOps / SysAdmin,   Data Scientist, Back-End Web Developer                                                                           0.000158\n",
       "  Front-End Web Developer,   Mobile Developer, Game Developer, Full-Stack Web Developer,   User Experience Designer, Back-End Web Developer                                           0.000158\n",
       "Full-Stack Web Developer, Back-End Web Developer, Data Engineer,   Data Scientist                                                                                                     0.000158\n",
       "  Front-End Web Developer,   Mobile Developer,   Product Manager,   DevOps / SysAdmin, Full-Stack Web Developer, Game Developer, Back-End Web Developer                               0.000158\n",
       "Game Developer,   User Experience Designer,   Front-End Web Developer, Full-Stack Web Developer,   Mobile Developer                                                                   0.000158\n",
       "  Mobile Developer, Full-Stack Web Developer, Data Engineer,   Front-End Web Developer,   Data Scientist, Information Security, Back-End Web Developer,   User Experience Designer    0.000158\n",
       "Full-Stack Web Developer,   Front-End Web Developer,   DevOps / SysAdmin, Back-End Web Developer                                                                                      0.000158\n",
       "Back-End Web Developer,   Product Manager,   DevOps / SysAdmin, Full-Stack Web Developer,   Data Scientist, Game Developer                                                            0.000158\n",
       "Back-End Web Developer,   Front-End Web Developer, Full-Stack Web Developer, Data Engineer,   Mobile Developer                                                                        0.000158\n",
       "Information Security,   DevOps / SysAdmin, Full-Stack Web Developer,   Mobile Developer,   Front-End Web Developer,   Data Scientist, Back-End Web Developer                          0.000158\n",
       "  Product Manager,   DevOps / SysAdmin                                                                                                                                                0.000158\n",
       "Full-Stack Web Developer,   Mobile Developer, Back-End Web Developer,   DevOps / SysAdmin                                                                                             0.000158\n",
       "Game Developer,   Product Manager, Full-Stack Web Developer,   User Experience Designer, Information Security                                                                         0.000158\n",
       "Name: JobRoleInterest, Length: 2955, dtype: float64"
      ]
     },
     "execution_count": 25,
     "metadata": {},
     "output_type": "execute_result"
    }
   ],
   "source": [
    "survey['JobRoleInterest'].value_counts(normalize=True)"
   ]
  },
  {
   "cell_type": "markdown",
   "metadata": {},
   "source": [
    "As we can see, most of the participants on this survey stated their interest on 5 main fields of work:\n",
    "* Full-Stack Web Developer\n",
    "* Front-End Web Developer\n",
    "* Data Scientist\n",
    "* Back-End Web Developer\n",
    "* Mobile Developer\n",
    "\n",
    "The remaining interestes are all negligible, since they're below 1%. Let's see this distribution on graphs:"
   ]
  },
  {
   "cell_type": "code",
   "execution_count": 8,
   "metadata": {},
   "outputs": [
    {
     "data": {
      "text/plain": [
       "<matplotlib.text.Text at 0x7f8a1ab11c88>"
      ]
     },
     "execution_count": 8,
     "metadata": {},
     "output_type": "execute_result"
    },
    {
     "data": {
      "image/png": "[encoded data removed]",
      "text/plain": [
       "<matplotlib.figure.Figure at 0x7f8a1ab4f908>"
      ]
     },
     "metadata": {},
     "output_type": "display_data"
    }
   ],
   "source": [
    "survey['JobRoleInterest'].value_counts()[:7].plot.pie(figsize=(8,8), autopct='%.2f%%', title='Percentage of interested people on each field of work')\n",
    "plot.ylabel('')"
   ]
  },
  {
   "cell_type": "code",
   "execution_count": 9,
   "metadata": {},
   "outputs": [
    {
     "data": {
      "image/png": "[encoded data removed]",
      "text/plain": [
       "<matplotlib.figure.Figure at 0x7f8a18ab10f0>"
      ]
     },
     "metadata": {},
     "output_type": "display_data"
    }
   ],
   "source": [
    "survey['JobRoleInterest'].value_counts()[:7].plot.barh()\n",
    "plot.title('Absolute number of people interested on each job segment')\n",
    "plot.gca().invert_yaxis()"
   ]
  },
  {
   "cell_type": "markdown",
   "metadata": {},
   "source": [
    "We've concluded that this dataset is useful for our job, and its a good sample of the population we want to analyse."
   ]
  },
  {
   "cell_type": "markdown",
   "metadata": {},
   "source": [
    "Let's check what countries could have most interested people, in absolute numbers and proportionally."
   ]
  },
  {
   "cell_type": "code",
   "execution_count": 10,
   "metadata": {},
   "outputs": [
    {
     "data": {
      "text/plain": [
       "United States of America    5791\n",
       "India                       1400\n",
       "United Kingdom               757\n",
       "Canada                       616\n",
       "Brazil                       364\n",
       "Germany                      324\n",
       "Poland                       265\n",
       "Russia                       263\n",
       "Australia                    259\n",
       "France                       228\n",
       "Spain                        217\n",
       "Nigeria                      214\n",
       "Ukraine                      202\n",
       "Romania                      171\n",
       "Italy                        164\n",
       "Name: CountryLive, dtype: int64"
      ]
     },
     "execution_count": 10,
     "metadata": {},
     "output_type": "execute_result"
    }
   ],
   "source": [
    "survey['CountryLive'].value_counts()[:15]"
   ]
  },
  {
   "cell_type": "code",
   "execution_count": 11,
   "metadata": {},
   "outputs": [
    {
     "data": {
      "text/plain": [
       "United States of America    0.377608\n",
       "India                       0.091288\n",
       "United Kingdom              0.049361\n",
       "Canada                      0.040167\n",
       "Brazil                      0.023735\n",
       "Germany                     0.021127\n",
       "Poland                      0.017280\n",
       "Russia                      0.017149\n",
       "Australia                   0.016888\n",
       "France                      0.014867\n",
       "Spain                       0.014150\n",
       "Nigeria                     0.013954\n",
       "Ukraine                     0.013172\n",
       "Romania                     0.011150\n",
       "Italy                       0.010694\n",
       "Name: CountryLive, dtype: float64"
      ]
     },
     "execution_count": 11,
     "metadata": {},
     "output_type": "execute_result"
    }
   ],
   "source": [
    "survey['CountryLive'].value_counts(normalize=True)[:15]"
   ]
  },
  {
   "cell_type": "markdown",
   "metadata": {},
   "source": [
    "It looks like USA and India are the best markets for us to adverstise, but we must check other variables, e.g. the money people spent with learning on these countries. \n",
    "\n",
    "Since we're going to advertise paid courses, we must make sure our final public can afford our product."
   ]
  },
  {
   "cell_type": "markdown",
   "metadata": {},
   "source": [
    "To check this tendency, we must cross two columns in our dataset: 'MonthsProgramming' and 'MoneyForLearning. We'll generate a new column, with a dollar spent for month ratio."
   ]
  },
  {
   "cell_type": "markdown",
   "metadata": {},
   "source": [
    "The column \"MonthsProgramming\" has some 0.0 values, which would distort our analysis. We're replacing those values with \"1.0\"."
   ]
  },
  {
   "cell_type": "code",
   "execution_count": 12,
   "metadata": {},
   "outputs": [],
   "source": [
    "survey.loc[survey['MonthsProgramming'] == 0.0, 'MonthsProgramming'] = 1.0"
   ]
  },
  {
   "cell_type": "markdown",
   "metadata": {},
   "source": [
    "Now, let's create the new column with the ratio Dollars Spent / Months Programming"
   ]
  },
  {
   "cell_type": "code",
   "execution_count": 13,
   "metadata": {
    "collapsed": true
   },
   "outputs": [],
   "source": [
    "survey['DollarsPerMonth'] = survey['MoneyForLearning']/survey['MonthsProgramming']"
   ]
  },
  {
   "cell_type": "markdown",
   "metadata": {},
   "source": [
    "Maybe we've got some null values on the new column? They would be problematic to work on, let's check if there's any."
   ]
  },
  {
   "cell_type": "code",
   "execution_count": 14,
   "metadata": {},
   "outputs": [
    {
     "data": {
      "text/plain": [
       "1995"
      ]
     },
     "execution_count": 14,
     "metadata": {},
     "output_type": "execute_result"
    }
   ],
   "source": [
    "survey['DollarsPerMonth'].isnull().sum()"
   ]
  },
  {
   "cell_type": "code",
   "execution_count": 15,
   "metadata": {},
   "outputs": [
    {
     "data": {
      "text/plain": [
       "16180"
      ]
     },
     "execution_count": 15,
     "metadata": {},
     "output_type": "execute_result"
    }
   ],
   "source": [
    "survey['DollarsPerMonth'].notnull().sum()"
   ]
  },
  {
   "cell_type": "markdown",
   "metadata": {},
   "source": [
    "We've got 1.362 null entries for this columns, and 13.974 non null entries. Given that proportion we can safely just remove that null entries without causing any greater damage to our dataset. We're doing it below."
   ]
  },
  {
   "cell_type": "code",
   "execution_count": 16,
   "metadata": {
    "collapsed": true
   },
   "outputs": [],
   "source": [
    "survey = survey[survey['DollarsPerMonth'].notnull()]"
   ]
  },
  {
   "cell_type": "markdown",
   "metadata": {},
   "source": [
    "Now, we'll check the average spending for each country."
   ]
  },
  {
   "cell_type": "code",
   "execution_count": 17,
   "metadata": {},
   "outputs": [],
   "source": [
    "us = survey[survey['CountryLive'] == 'United States of America']\n",
    "india = survey[survey['CountryLive'] == 'India']\n",
    "uk = survey[survey['CountryLive'] == 'United Kingdom']\n",
    "canada = survey[survey['CountryLive'] == \"Canada\"]"
   ]
  },
  {
   "cell_type": "code",
   "execution_count": 18,
   "metadata": {},
   "outputs": [
    {
     "data": {
      "text/plain": [
       "206.29771071791808"
      ]
     },
     "execution_count": 18,
     "metadata": {},
     "output_type": "execute_result"
    }
   ],
   "source": [
    "us['DollarsPerMonth'].mean()"
   ]
  },
  {
   "cell_type": "code",
   "execution_count": 19,
   "metadata": {},
   "outputs": [
    {
     "data": {
      "text/plain": [
       "55.77498025998431"
      ]
     },
     "execution_count": 19,
     "metadata": {},
     "output_type": "execute_result"
    }
   ],
   "source": [
    "uk['DollarsPerMonth'].mean()"
   ]
  },
  {
   "cell_type": "code",
   "execution_count": 20,
   "metadata": {},
   "outputs": [
    {
     "data": {
      "text/plain": [
       "66.5261980990356"
      ]
     },
     "execution_count": 20,
     "metadata": {},
     "output_type": "execute_result"
    }
   ],
   "source": [
    "india['DollarsPerMonth'].mean()"
   ]
  },
  {
   "cell_type": "code",
   "execution_count": 21,
   "metadata": {},
   "outputs": [
    {
     "data": {
      "text/plain": [
       "118.43405393433031"
      ]
     },
     "execution_count": 21,
     "metadata": {},
     "output_type": "execute_result"
    }
   ],
   "source": [
    "canada['DollarsPerMonth'].mean()"
   ]
  },
  {
   "cell_type": "markdown",
   "metadata": {},
   "source": [
    "We have the mean of dollars spent by month for each country. Let's plot the results for a visual understanding:"
   ]
  },
  {
   "cell_type": "code",
   "execution_count": 22,
   "metadata": {
    "collapsed": true
   },
   "outputs": [],
   "source": [
    "countries_mean = {}\n",
    "countries_mean['us'] = us['DollarsPerMonth'].mean()\n",
    "countries_mean['uk'] = uk['DollarsPerMonth'].mean()\n",
    "countries_mean['india'] = india['DollarsPerMonth'].mean()\n",
    "countries_mean['canada'] = canada['DollarsPerMonth'].mean()"
   ]
  },
  {
   "cell_type": "code",
   "execution_count": 23,
   "metadata": {},
   "outputs": [
    {
     "data": {
      "text/plain": [
       "([<matplotlib.axis.XTick at 0x7f8a18a31860>,\n",
       "  <matplotlib.axis.XTick at 0x7f8a18a579e8>,\n",
       "  <matplotlib.axis.XTick at 0x7f8a18a43320>,\n",
       "  <matplotlib.axis.XTick at 0x7f8a189a7438>],\n",
       " <a list of 4 Text xticklabel objects>)"
      ]
     },
     "execution_count": 23,
     "metadata": {},
     "output_type": "execute_result"
    },
    {
     "data": {
      "image/png": "[encoded data removed]",
      "text/plain": [
       "<matplotlib.figure.Figure at 0x7f8a1b00c940>"
      ]
     },
     "metadata": {},
     "output_type": "display_data"
    }
   ],
   "source": [
    "plot.bar(range(len(countries_mean)), list(countries_mean.values()), align='center')\n",
    "plot.xticks(range(len(countries_mean)), list(countries_mean.keys()))"
   ]
  },
  {
   "cell_type": "markdown",
   "metadata": {},
   "source": [
    "We'll now check for outliers values, that could distort our statistics."
   ]
  },
  {
   "cell_type": "code",
   "execution_count": 53,
   "metadata": {
    "collapsed": true
   },
   "outputs": [],
   "source": [
    "labs=['us', 'india', 'uk', 'canada']"
   ]
  },
  {
   "cell_type": "code",
   "execution_count": 54,
   "metadata": {},
   "outputs": [
    {
     "data": {
      "text/plain": [
       "{'boxes': [<matplotlib.lines.Line2D at 0x7f8a11579898>,\n",
       "  <matplotlib.lines.Line2D at 0x7f8a1150b2e8>,\n",
       "  <matplotlib.lines.Line2D at 0x7f8a1151bc18>,\n",
       "  <matplotlib.lines.Line2D at 0x7f8a11534550>],\n",
       " 'caps': [<matplotlib.lines.Line2D at 0x7f8a1157ec50>,\n",
       "  <matplotlib.lines.Line2D at 0x7f8a1157ed30>,\n",
       "  <matplotlib.lines.Line2D at 0x7f8a11511b38>,\n",
       "  <matplotlib.lines.Line2D at 0x7f8a11516a90>,\n",
       "  <matplotlib.lines.Line2D at 0x7f8a11527b70>,\n",
       "  <matplotlib.lines.Line2D at 0x7f8a11527c88>,\n",
       "  <matplotlib.lines.Line2D at 0x7f8a11539da0>,\n",
       "  <matplotlib.lines.Line2D at 0x7f8a1153dcf8>],\n",
       " 'fliers': [<matplotlib.lines.Line2D at 0x7f8a11584a90>,\n",
       "  <matplotlib.lines.Line2D at 0x7f8a1151bb00>,\n",
       "  <matplotlib.lines.Line2D at 0x7f8a1152ccf8>,\n",
       "  <matplotlib.lines.Line2D at 0x7f8a11543d68>],\n",
       " 'means': [],\n",
       " 'medians': [<matplotlib.lines.Line2D at 0x7f8a11584390>,\n",
       "  <matplotlib.lines.Line2D at 0x7f8a11516ba8>,\n",
       "  <matplotlib.lines.Line2D at 0x7f8a1152c4e0>,\n",
       "  <matplotlib.lines.Line2D at 0x7f8a1153de10>],\n",
       " 'whiskers': [<matplotlib.lines.Line2D at 0x7f8a11579fd0>,\n",
       "  <matplotlib.lines.Line2D at 0x7f8a1157e630>,\n",
       "  <matplotlib.lines.Line2D at 0x7f8a1150bac8>,\n",
       "  <matplotlib.lines.Line2D at 0x7f8a11511a20>,\n",
       "  <matplotlib.lines.Line2D at 0x7f8a11521b00>,\n",
       "  <matplotlib.lines.Line2D at 0x7f8a11521c18>,\n",
       "  <matplotlib.lines.Line2D at 0x7f8a11534d30>,\n",
       "  <matplotlib.lines.Line2D at 0x7f8a11539c88>]}"
      ]
     },
     "execution_count": 54,
     "metadata": {},
     "output_type": "execute_result"
    },
    {
     "data": {
      "image/png": "[encoded data removed]",
      "text/plain": [
       "<matplotlib.figure.Figure at 0x7f8a1162ed30>"
      ]
     },
     "metadata": {},
     "output_type": "display_data"
    }
   ],
   "source": [
    "plot.boxplot([us['DollarsPerMonth'], india['DollarsPerMonth'], uk['DollarsPerMonth'], canada['DollarsPerMonth']], labels=labs, widths=1)"
   ]
  },
  {
   "cell_type": "markdown",
   "metadata": {},
   "source": [
    "As we tought, there's a lot of outliers. Let's remove them."
   ]
  },
  {
   "cell_type": "code",
   "execution_count": 100,
   "metadata": {
    "collapsed": true
   },
   "outputs": [],
   "source": [
    "no_outs = survey[survey['DollarsPerMonth']< 5000]"
   ]
  },
  {
   "cell_type": "code",
   "execution_count": 101,
   "metadata": {
    "collapsed": true
   },
   "outputs": [],
   "source": [
    "usnout = no_outs[no_outs['CountryLive'] == 'United States of America']\n",
    "indianout = no_outs[no_outs['CountryLive'] == 'India']\n",
    "uknout = no_outs[no_outs['CountryLive'] == 'United Kingdom']\n",
    "canadanout = no_outs[no_outs['CountryLive'] == \"Canada\"]"
   ]
  },
  {
   "cell_type": "code",
   "execution_count": 102,
   "metadata": {},
   "outputs": [
    {
     "data": {
      "text/plain": [
       "{'boxes': [<matplotlib.lines.Line2D at 0x7f8a0f95cac8>,\n",
       "  <matplotlib.lines.Line2D at 0x7f8a0f96e5f8>,\n",
       "  <matplotlib.lines.Line2D at 0x7f8a0f980f28>,\n",
       "  <matplotlib.lines.Line2D at 0x7f8a0f915898>],\n",
       " 'caps': [<matplotlib.lines.Line2D at 0x7f8a0f962e80>,\n",
       "  <matplotlib.lines.Line2D at 0x7f8a0f962f60>,\n",
       "  <matplotlib.lines.Line2D at 0x7f8a0f975e48>,\n",
       "  <matplotlib.lines.Line2D at 0x7f8a0f97ada0>,\n",
       "  <matplotlib.lines.Line2D at 0x7f8a0f90beb8>,\n",
       "  <matplotlib.lines.Line2D at 0x7f8a0f90bfd0>,\n",
       "  <matplotlib.lines.Line2D at 0x7f8a0f923828>,\n",
       "  <matplotlib.lines.Line2D at 0x7f8a0f923f60>],\n",
       " 'fliers': [<matplotlib.lines.Line2D at 0x7f8a0f968da0>,\n",
       "  <matplotlib.lines.Line2D at 0x7f8a0f980e10>,\n",
       "  <matplotlib.lines.Line2D at 0x7f8a0f915780>,\n",
       "  <matplotlib.lines.Line2D at 0x7f8a0f927fd0>],\n",
       " 'means': [],\n",
       " 'medians': [<matplotlib.lines.Line2D at 0x7f8a0f9685c0>,\n",
       "  <matplotlib.lines.Line2D at 0x7f8a0f97aeb8>,\n",
       "  <matplotlib.lines.Line2D at 0x7f8a0f910828>,\n",
       "  <matplotlib.lines.Line2D at 0x7f8a0f927198>],\n",
       " 'whiskers': [<matplotlib.lines.Line2D at 0x7f8a0f95cc50>,\n",
       "  <matplotlib.lines.Line2D at 0x7f8a0f962860>,\n",
       "  <matplotlib.lines.Line2D at 0x7f8a0f96edd8>,\n",
       "  <matplotlib.lines.Line2D at 0x7f8a0f975d30>,\n",
       "  <matplotlib.lines.Line2D at 0x7f8a0f985e48>,\n",
       "  <matplotlib.lines.Line2D at 0x7f8a0f985f60>,\n",
       "  <matplotlib.lines.Line2D at 0x7f8a0f91d7b8>,\n",
       "  <matplotlib.lines.Line2D at 0x7f8a0f91dfd0>]}"
      ]
     },
     "execution_count": 102,
     "metadata": {},
     "output_type": "execute_result"
    },
    {
     "data": {
      "image/png": "[encoded data removed]",
      "text/plain": [
       "<matplotlib.figure.Figure at 0x7f8a0fafa908>"
      ]
     },
     "metadata": {},
     "output_type": "display_data"
    }
   ],
   "source": [
    "plot.boxplot([usnout['DollarsPerMonth'], indianout['DollarsPerMonth'], uknout['DollarsPerMonth'], canadanout['DollarsPerMonth']], labels=labs)"
   ]
  },
  {
   "cell_type": "markdown",
   "metadata": {},
   "source": [
    "Cutting out extreme outliers (which were abundant in US and India), we came to conclude that the best countries do adverstise are US and Canada, followed close by UK."
   ]
  },
  {
   "cell_type": "code",
   "execution_count": 103,
   "metadata": {},
   "outputs": [],
   "source": [
    "cleanedset = no_outs[(no_outs['CountryLive'] == 'United States of America') | (no_outs['CountryLive'] =='India') |\n",
    "(no_outs['CountryLive'] == 'United Kingdom') | (no_outs['CountryLive'] == \"Canada\")]"
   ]
  },
  {
   "cell_type": "code",
   "execution_count": 104,
   "metadata": {},
   "outputs": [
    {
     "data": {
      "text/plain": [
       "CountryLive\n",
       "Canada                      109.973801\n",
       "India                        46.202537\n",
       "United Kingdom               55.774980\n",
       "United States of America    125.143209\n",
       "Name: DollarsPerMonth, dtype: float64"
      ]
     },
     "execution_count": 104,
     "metadata": {},
     "output_type": "execute_result"
    }
   ],
   "source": [
    "cleanedset.groupby(['CountryLive'])['DollarsPerMonth'].mean()"
   ]
  },
  {
   "cell_type": "markdown",
   "metadata": {},
   "source": [
    "### We've concluded that the best opportunity to invest on advertising are on US and Canada."
   ]
  },
  {
   "cell_type": "code",
   "execution_count": null,
   "metadata": {},
   "outputs": [],
   "source": []
  }
 ],
 "metadata": {
  "kernelspec": {
   "display_name": "Python 3",
   "language": "python",
   "name": "python3"
  },
  "language_info": {
   "codemirror_mode": {
    "name": "ipython",
    "version": 3
   },
   "file_extension": ".py",
   "mimetype": "text/x-python",
   "name": "python",
   "nbconvert_exporter": "python",
   "pygments_lexer": "ipython3",
   "version": "3.8.3"
  }
 },
 "nbformat": 4,
 "nbformat_minor": 2
}
